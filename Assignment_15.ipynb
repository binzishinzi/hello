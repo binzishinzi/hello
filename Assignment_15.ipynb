{
  "nbformat": 4,
  "nbformat_minor": 0,
  "metadata": {
    "colab": {
      "provenance": []
    },
    "kernelspec": {
      "name": "python3",
      "display_name": "Python 3"
    },
    "language_info": {
      "name": "python"
    }
  },
  "cells": [
    {
      "cell_type": "markdown",
      "source": [
        "Problem Statement No. 15\n",
        "\n",
        "Consider the Amazon Alexa Reviews Dataset. This dataset consists of a nearly 3000 Amazon customer reviews (input text), star ratings, date of review, variant and feedback of various amazon Alexa products like Alexa Echo, Echo dots,\n",
        "Alexa Firesticks etc. Perform following operations on this dataset.\n",
        "\n",
        "(I) Plot a graph of Positive and Negative Feedback (1 = Positive Feedback, 0 = Negative Feedback)\n",
        "\n",
        "(II) Convert the review text into lowercase.\n",
        "\n",
        "(III) Remove all punctuations from review text.\n",
        "\n",
        "(IV) Remove emoticons and emojis from the text\n",
        "\n",
        "(V) Tokenize the review text into words.\n",
        "\n",
        "(VI) Remove the Stopwords from the tokenized text."
      ],
      "metadata": {
        "id": "dGV2i6gWaria"
      }
    },
    {
      "cell_type": "code",
      "execution_count": 1,
      "metadata": {
        "id": "_HyEmXERanL-"
      },
      "outputs": [],
      "source": [
        "import pandas as pd\n",
        "import matplotlib.pyplot as plt"
      ]
    },
    {
      "cell_type": "code",
      "source": [
        "df = pd.read_csv(\"AlexaDataset.csv\")"
      ],
      "metadata": {
        "id": "d2ETwUB4axud"
      },
      "execution_count": 3,
      "outputs": []
    },
    {
      "cell_type": "code",
      "source": [
        "# Define a function to convert star ratings to positive (1) or negative (0) feedback\n",
        "def convert_to_feedback(rating):\n",
        "    if rating >= 4:\n",
        "        return 1  # Positive feedback\n",
        "    else:\n",
        "        return 0  # Negative feedback\n",
        "\n",
        "# Apply the function to create a new column 'Feedback'\n",
        "df['Feedback'] = df['rating'].apply(convert_to_feedback)\n",
        "\n",
        "# Count the occurrences of positive and negative feedback\n",
        "feedback_counts = df['Feedback'].value_counts()\n",
        "\n",
        "# Plot the graph\n",
        "plt.bar(feedback_counts.index, feedback_counts.values, tick_label=[\"Negative\", \"Positive\"])\n",
        "plt.xlabel('Feedback')\n",
        "plt.ylabel('Count')\n",
        "plt.title('Distribution of Positive and Negative Feedback')\n",
        "plt.show()"
      ],
      "metadata": {
        "colab": {
          "base_uri": "https://localhost:8080/",
          "height": 472
        },
        "id": "wWy8sB4rbJXw",
        "outputId": "9958649a-27a3-47c0-a5dc-b4c5b6abe12b"
      },
      "execution_count": 4,
      "outputs": [
        {
          "output_type": "display_data",
          "data": {
            "text/plain": [
              "<Figure size 640x480 with 1 Axes>"
            ],
            "image/png": "[encoded data removed]"
          },
          "metadata": {}
        }
      ]
    },
    {
      "cell_type": "markdown",
      "source": [
        "Convert the review text into lowercase."
      ],
      "metadata": {
        "id": "MHCd_cgGbLCn"
      }
    },
    {
      "cell_type": "code",
      "source": [
        "# Convert the review text to lowercase\n",
        "df['verified_reviews'] = df['verified_reviews'].str.lower()\n",
        "\n",
        "# Display the first few rows to verify the conversion\n",
        "print(df.head())"
      ],
      "metadata": {
        "colab": {
          "base_uri": "https://localhost:8080/"
        },
        "id": "UWSguWbabNhB",
        "outputId": "4e824d9f-360c-4e4b-8fac-6d00983ce420"
      },
      "execution_count": 5,
      "outputs": [
        {
          "output_type": "stream",
          "name": "stdout",
          "text": [
            "   rating       date        variation  \\\n",
            "0       5  31-Jul-18  Charcoal Fabric   \n",
            "1       5  31-Jul-18  Charcoal Fabric   \n",
            "2       4  31-Jul-18    Walnut Finish   \n",
            "3       5  31-Jul-18  Charcoal Fabric   \n",
            "4       5  31-Jul-18  Charcoal Fabric   \n",
            "\n",
            "                                    verified_reviews  feedback  Feedback  \n",
            "0                                      love my echo!         1         1  \n",
            "1                                          loved it!         1         1  \n",
            "2  sometimes while playing a game, you can answer...         1         1  \n",
            "3  i have had a lot of fun with this thing. my 4 ...         1         1  \n",
            "4                                              music         1         1  \n"
          ]
        }
      ]
    },
    {
      "cell_type": "markdown",
      "source": [
        "Remove all punctuations from review text."
      ],
      "metadata": {
        "id": "kBPqAHyUbTK5"
      }
    },
    {
      "cell_type": "code",
      "source": [
        "# Function to remove punctuations\n",
        "def remove_punctuation(text):\n",
        "    return re.sub(r'[^\\w\\s]', '', text)\n",
        "\n",
        "# Apply the function to the review text\n",
        "df['verified_reviews'] = df['verified_reviews'].apply(remove_punctuation)"
      ],
      "metadata": {
        "id": "ZKZqygRebVvz"
      },
      "execution_count": 11,
      "outputs": []
    },
    {
      "cell_type": "markdown",
      "source": [
        "Remove emoticons and emojis from the text"
      ],
      "metadata": {
        "id": "po2QYXCdcUB3"
      }
    },
    {
      "cell_type": "code",
      "source": [
        "# Function to remove emoticons and emojis\n",
        "def remove_emoticons(text):\n",
        "    # Define the pattern for emoticons and emojis\n",
        "    emoji_pattern = re.compile(\"[\"\n",
        "                               u\"\\U0001F600-\\U0001F64F\"  # emoticons\n",
        "                               u\"\\U0001F300-\\U0001F5FF\"  # symbols & pictographs\n",
        "                               u\"\\U0001F680-\\U0001F6FF\"  # transport & map symbols\n",
        "                               u\"\\U0001F700-\\U0001F77F\"  # alchemical symbols\n",
        "                               u\"\\U0001F780-\\U0001F7FF\"  # Geometric Shapes Extended\n",
        "                               u\"\\U0001F800-\\U0001F8FF\"  # Supplemental Arrows-C\n",
        "                               u\"\\U0001F900-\\U0001F9FF\"  # Supplemental Symbols and Pictographs\n",
        "                               u\"\\U0001FA00-\\U0001FA6F\"  # Chess Symbols\n",
        "                               u\"\\U0001FA70-\\U0001FAFF\"  # Symbols and Pictographs Extended-A\n",
        "                               u\"\\U00002702-\\U000027B0\"  # Dingbats\n",
        "                               u\"\\U000024C2-\\U0001F251\"\n",
        "                               \"]+\", flags=re.UNICODE)\n",
        "    # Remove emoticons and emojis\n",
        "    return emoji_pattern.sub(r'', text)\n",
        "\n",
        "# Apply the function to the review text\n",
        "df['verified_reviews'] = df['verified_reviews'].apply(remove_emoticons)\n",
        "\n",
        "# Display the modified DataFrame\n",
        "print(df.head())"
      ],
      "metadata": {
        "colab": {
          "base_uri": "https://localhost:8080/"
        },
        "id": "f1tE6sXQcSBH",
        "outputId": "56fbcc6c-9c80-4ee6-bce1-e54cde076a49"
      },
      "execution_count": 14,
      "outputs": [
        {
          "output_type": "stream",
          "name": "stdout",
          "text": [
            "   rating       date        variation  \\\n",
            "0       5  31-Jul-18  Charcoal Fabric   \n",
            "1       5  31-Jul-18  Charcoal Fabric   \n",
            "2       4  31-Jul-18    Walnut Finish   \n",
            "3       5  31-Jul-18  Charcoal Fabric   \n",
            "4       5  31-Jul-18  Charcoal Fabric   \n",
            "\n",
            "                                    verified_reviews  feedback  Feedback  \n",
            "0                                       love my echo         1         1  \n",
            "1                                           loved it         1         1  \n",
            "2  sometimes while playing a game you can answer ...         1         1  \n",
            "3  i have had a lot of fun with this thing my 4 y...         1         1  \n",
            "4                                              music         1         1  \n"
          ]
        }
      ]
    },
    {
      "cell_type": "markdown",
      "source": [
        "Tokenize the review text into words.\n",
        "pip install nltk"
      ],
      "metadata": {
        "id": "oRxml4ALcv2f"
      }
    },
    {
      "cell_type": "code",
      "source": [
        "# Function to tokenize the review text into words\n",
        "def tokenize_text(text):\n",
        "    return text.split()\n",
        "\n",
        "# Apply the function to the review text\n",
        "df['tokenized_reviews'] = df['verified_reviews'].apply(tokenize_text)\n",
        "\n",
        "# Display the modified DataFrame\n",
        "print(df[['verified_reviews', 'tokenized_reviews']].head())"
      ],
      "metadata": {
        "colab": {
          "base_uri": "https://localhost:8080/"
        },
        "id": "wGpTwbgFcv_d",
        "outputId": "0099b309-639c-46fb-aeeb-89e5dcf30b94"
      },
      "execution_count": 17,
      "outputs": [
        {
          "output_type": "stream",
          "name": "stdout",
          "text": [
            "                                    verified_reviews  \\\n",
            "0                                       love my echo   \n",
            "1                                           loved it   \n",
            "2  sometimes while playing a game you can answer ...   \n",
            "3  i have had a lot of fun with this thing my 4 y...   \n",
            "4                                              music   \n",
            "\n",
            "                                   tokenized_reviews  \n",
            "0                                   [love, my, echo]  \n",
            "1                                        [loved, it]  \n",
            "2  [sometimes, while, playing, a, game, you, can,...  \n",
            "3  [i, have, had, a, lot, of, fun, with, this, th...  \n",
            "4                                            [music]  \n"
          ]
        }
      ]
    },
    {
      "cell_type": "markdown",
      "source": [
        "Remove the Stopwords from the tokenized text."
      ],
      "metadata": {
        "id": "G6gTqoCZdGvb"
      }
    },
    {
      "cell_type": "code",
      "source": [
        "import nltk\n",
        "nltk.download('stopwords')\n",
        "from nltk.corpus import stopwords\n",
        "# Function to remove stopwords from tokenized text\n",
        "def remove_stopwords(tokens):\n",
        "    stop_words = set(stopwords.words('english'))\n",
        "    return [word for word in tokens if word.lower() not in stop_words]\n",
        "\n",
        "# Apply the function to the tokenized text\n",
        "df['tokenized_reviews'] = df['tokenized_reviews'].apply(remove_stopwords)\n",
        "\n",
        "# Display the modified DataFrame\n",
        "print(df[['verified_reviews', 'tokenized_reviews']].head())"
      ],
      "metadata": {
        "colab": {
          "base_uri": "https://localhost:8080/"
        },
        "id": "4FmRn3-7dHPU",
        "outputId": "d7142a70-3c57-44a3-bb6f-b82192c38b11"
      },
      "execution_count": 19,
      "outputs": [
        {
          "output_type": "stream",
          "name": "stderr",
          "text": [
            "[nltk_data] Downloading package stopwords to /root/nltk_data...\n",
            "[nltk_data]   Unzipping corpora/stopwords.zip.\n"
          ]
        },
        {
          "output_type": "stream",
          "name": "stdout",
          "text": [
            "                                    verified_reviews  \\\n",
            "0                                       love my echo   \n",
            "1                                           loved it   \n",
            "2  sometimes while playing a game you can answer ...   \n",
            "3  i have had a lot of fun with this thing my 4 y...   \n",
            "4                                              music   \n",
            "\n",
            "                                   tokenized_reviews  \n",
            "0                                       [love, echo]  \n",
            "1                                            [loved]  \n",
            "2  [sometimes, playing, game, answer, question, c...  \n",
            "3  [lot, fun, thing, 4, yr, old, learns, dinosaur...  \n",
            "4                                            [music]  \n"
          ]
        }
      ]
    },
    {
      "cell_type": "markdown",
      "source": [
        "Sure, let's break down the entire practical:\n",
        "\n",
        "1. Loading the Dataset\n",
        "The first step is to load the dataset. In this case, we have a dataset stored in a CSV file named \"amazon.csv\". We use pandas, a Python data manipulation library, to read the CSV file into a DataFrame, which is a tabular data structure.\n",
        "\n",
        "2. Preprocessing Text Data\n",
        "a. Lowercasing: We convert all text to lowercase to ensure uniformity and avoid duplication of words due to case differences.\n",
        "\n",
        "b. Removing Punctuations: Punctuation marks are removed from the text data since they don't usually add significant meaning for many natural language processing tasks.\n",
        "\n",
        "c. Removing Emoticons and Emojis: Emoticons and emojis are removed from the text data because they are often not relevant for many natural language processing tasks and can interfere with text processing.\n",
        "\n",
        "3. Tokenization\n",
        "Tokenization is the process of breaking down text into smaller units, typically words or sentences. We tokenize the preprocessed text into words using NLTK's word_tokenize() function. Tokenization is an essential preprocessing step for many natural language processing tasks, as it allows us to analyze the text at a more granular level.\n",
        "\n",
        "4. Removing Stopwords\n",
        "Stopwords are common words that are often filtered out from text data because they typically don't contribute much to the overall meaning of the text. Examples of stopwords include \"the\", \"is\", \"and\", \"in\", etc. We remove stopwords from the tokenized text using NLTK's English stopwords corpus. However, in the alternative approach, we define our custom list of stopwords and remove them from the tokenized text.\n",
        "\n",
        "5. Result\n",
        "After preprocessing, the dataset contains two columns: \"verified_reviews\", which contains the original text reviews, and \"tokenized_reviews\", which contains the preprocessed and tokenized text reviews with stopwords removed.\n",
        "\n",
        "Summary\n",
        "The practical involves preprocessing text data by converting it to lowercase, removing punctuations, emoticons, and emojis, tokenizing the text into words, and removing stopwords. These preprocessing steps are common in natural language processing tasks and are essential for preparing text data for analysis, classification, or other tasks."
      ],
      "metadata": {
        "id": "4qDjeZLydb_4"
      }
    }
  ]
}