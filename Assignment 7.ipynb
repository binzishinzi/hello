{
  "nbformat": 4,
  "nbformat_minor": 0,
  "metadata": {
    "colab": {
      "provenance": []
    },
    "kernelspec": {
      "name": "python3",
      "display_name": "Python 3"
    },
    "language_info": {
      "name": "python"
    }
  },
  "cells": [
    {
      "cell_type": "markdown",
      "source": [
        "Problem Statement No. 07\n",
        "Perform the following operations using Python on any open source dataset.\n",
        "1. Import all the required Python Libraries.\n",
        "2. Load the Dataset into pandas data frame.\n",
        "4. Data Preprocessing: check for missing values in the data to get some initial statistics. Provide variable descriptions.\n",
        "Types of variables etc. Check the dimensions of the data frame.\n",
        "5. Data Formatting and Data Normalization: Summarize the types of variables by checking the data types (i.e.,\n",
        "character, numeric, integer, factor, and logical) of the variables in the data set. If variables are not in the correct data\n",
        "type, apply proper type conversions.\n",
        "6. Turn categorical variables into quantitative variables in Python. In addition to the codes and outputs, explain every\n",
        "operation that you do in the above steps and explain everything that you do to import/read/scrape the data set."
      ],
      "metadata": {
        "id": "NWjaZXTVt0K3"
      }
    },
    {
      "cell_type": "code",
      "execution_count": 1,
      "metadata": {
        "id": "sj8y8cKjto_g"
      },
      "outputs": [],
      "source": [
        "import pandas as pd\n",
        "import numpy as np"
      ]
    },
    {
      "cell_type": "code",
      "source": [
        "df = pd.read_csv(\"nba.csv\")"
      ],
      "metadata": {
        "id": "4_9A3Y6Lu6e_"
      },
      "execution_count": 19,
      "outputs": []
    },
    {
      "cell_type": "code",
      "source": [
        "# Display the first few rows of the DataFrame\n",
        "print(df.head())"
      ],
      "metadata": {
        "colab": {
          "base_uri": "https://localhost:8080/"
        },
        "id": "_KmZxf66vSEc",
        "outputId": "228ba0b0-3f0d-4375-9a92-45137b14a051"
      },
      "execution_count": 4,
      "outputs": [
        {
          "output_type": "stream",
          "name": "stdout",
          "text": [
            "  Name,Team,Number,Position,Age,Height,Weight,College,Salary\n",
            "0  Avery Bradley,Boston Celtics,0,PG,25,2-Jun,180...        \n",
            "1  Jae Crowder,Boston Celtics,99,SF,25,6-Jun,235,...        \n",
            "2  John Holland,Boston Celtics,30,SG,27,5-Jun,205...        \n",
            "3  R.J. Hunter,Boston Celtics,28,SG,22,5-Jun,185,...        \n",
            "4  Jonas Jerebko,Boston Celtics,8,PF,29,10-Jun,23...        \n"
          ]
        }
      ]
    },
    {
      "cell_type": "code",
      "source": [
        "# Checking for missing values and providing variable descriptions\n",
        "print(df.info())"
      ],
      "metadata": {
        "colab": {
          "base_uri": "https://localhost:8080/"
        },
        "id": "ut8k1c4LvWdE",
        "outputId": "6cea79b2-a250-4ffb-b443-64f12807428c"
      },
      "execution_count": 5,
      "outputs": [
        {
          "output_type": "stream",
          "name": "stdout",
          "text": [
            "<class 'pandas.core.frame.DataFrame'>\n",
            "RangeIndex: 457 entries, 0 to 456\n",
            "Data columns (total 1 columns):\n",
            " #   Column                                                      Non-Null Count  Dtype \n",
            "---  ------                                                      --------------  ----- \n",
            " 0   Name,Team,Number,Position,Age,Height,Weight,College,Salary  457 non-null    object\n",
            "dtypes: object(1)\n",
            "memory usage: 3.7+ KB\n",
            "None\n"
          ]
        }
      ]
    },
    {
      "cell_type": "code",
      "source": [
        "# Summary statistics for numerical variables\n",
        "print(df.describe())"
      ],
      "metadata": {
        "colab": {
          "base_uri": "https://localhost:8080/"
        },
        "id": "laHhzDtyvcpd",
        "outputId": "aa7acda2-f593-4c73-8c46-223f98cd2350"
      },
      "execution_count": 6,
      "outputs": [
        {
          "output_type": "stream",
          "name": "stdout",
          "text": [
            "       Name,Team,Number,Position,Age,Height,Weight,College,Salary\n",
            "count                                                 457        \n",
            "unique                                                457        \n",
            "top     Avery Bradley,Boston Celtics,0,PG,25,2-Jun,180...        \n",
            "freq                                                    1        \n"
          ]
        }
      ]
    },
    {
      "cell_type": "code",
      "source": [
        "# Check the dimensions of the DataFrame\n",
        "print(\"Dimensions of the DataFrame:\", df.shape)"
      ],
      "metadata": {
        "colab": {
          "base_uri": "https://localhost:8080/"
        },
        "id": "XZxOrnBCvfEV",
        "outputId": "bb9b9e47-8dec-4bd5-b062-f44ad19e8f80"
      },
      "execution_count": 7,
      "outputs": [
        {
          "output_type": "stream",
          "name": "stdout",
          "text": [
            "Dimensions of the DataFrame: (457, 1)\n"
          ]
        }
      ]
    },
    {
      "cell_type": "markdown",
      "source": [
        "So, in this case, the DataFrame has 457 rows and 1 column. This means that the dataset contains information for 457 NBA players, with each player's information stored in a single column."
      ],
      "metadata": {
        "id": "h47dOVN3vse9"
      }
    },
    {
      "cell_type": "markdown",
      "source": [
        "#To summarize the types of variables and perform necessary data type conversions, we'll first examine the data types of each column in the DataFrame and then apply appropriate conversions if needed. Here's how we can do it:"
      ],
      "metadata": {
        "id": "VQII6xgHv_uQ"
      }
    },
    {
      "cell_type": "code",
      "source": [
        "# Check data types of variables\n",
        "print(df.dtypes)"
      ],
      "metadata": {
        "colab": {
          "base_uri": "https://localhost:8080/"
        },
        "id": "WIXA_zFwv_dx",
        "outputId": "ddec1f7a-2195-45f7-8752-550bc3084d2c"
      },
      "execution_count": 20,
      "outputs": [
        {
          "output_type": "stream",
          "name": "stdout",
          "text": [
            "Name         object\n",
            "Team         object\n",
            "Number        int64\n",
            "Position     object\n",
            "Age           int64\n",
            "Height       object\n",
            "Weight        int64\n",
            "College      object\n",
            "Salary      float64\n",
            "dtype: object\n"
          ]
        }
      ]
    },
    {
      "cell_type": "code",
      "source": [
        "df['Height'] = pd.to_numeric(df['Height'], errors='coerce')"
      ],
      "metadata": {
        "id": "jxCe4zZnv6Lj"
      },
      "execution_count": 22,
      "outputs": []
    },
    {
      "cell_type": "code",
      "source": [
        "# Display data types after conversion\n",
        "print(df.dtypes)"
      ],
      "metadata": {
        "colab": {
          "base_uri": "https://localhost:8080/"
        },
        "id": "8fFV39YexWOX",
        "outputId": "4bb47b7e-6fc9-4d15-d077-bbdda4d701eb"
      },
      "execution_count": 23,
      "outputs": [
        {
          "output_type": "stream",
          "name": "stdout",
          "text": [
            "Name         object\n",
            "Team         object\n",
            "Number        int64\n",
            "Position     object\n",
            "Age           int64\n",
            "Height      float64\n",
            "Weight        int64\n",
            "College      object\n",
            "Salary      float64\n",
            "dtype: object\n"
          ]
        }
      ]
    },
    {
      "cell_type": "markdown",
      "source": [
        "# Turn categorical variables into quantitative variables"
      ],
      "metadata": {
        "id": "bTARNKFfxgFf"
      }
    },
    {
      "cell_type": "code",
      "source": [
        "# Step 1: Importing Libraries\n",
        "from sklearn.preprocessing import OneHotEncoder\n",
        "\n",
        "# Step 4: One-Hot Encoding using Scikit-learn\n",
        "# Assuming 'Team' is a categorical variable\n",
        "# Creating an instance of OneHotEncoder\n",
        "encoder = OneHotEncoder(sparse=False)\n",
        "\n",
        "# Fit and transform the 'Team' column\n",
        "team_encoded = encoder.fit_transform(df[['Team']])\n",
        "\n",
        "# Create a DataFrame from the encoded array\n",
        "team_encoded_df = pd.DataFrame(team_encoded, columns=encoder.get_feature_names_out(['Team']))\n",
        "\n",
        "# Concatenate the encoded DataFrame with the original DataFrame\n",
        "df_encoded = pd.concat([df, team_encoded_df], axis=1)\n",
        "\n",
        "# Drop the original 'Team' column\n",
        "df_encoded.drop(columns=['Team'], inplace=True)\n",
        "\n",
        "# Displaying the transformed DataFrame\n",
        "print(df_encoded.head())"
      ],
      "metadata": {
        "colab": {
          "base_uri": "https://localhost:8080/"
        },
        "id": "f1Jrkkj5xkds",
        "outputId": "0620103b-8fa7-4836-fab6-e761b2c029e1"
      },
      "execution_count": 25,
      "outputs": [
        {
          "output_type": "stream",
          "name": "stdout",
          "text": [
            "            Name  Number Position  Age  Height  Weight            College  \\\n",
            "0  Avery Bradley       0       PG   25     NaN     180              Texas   \n",
            "1    Jae Crowder      99       SF   25     NaN     235          Marquette   \n",
            "2   John Holland      30       SG   27     NaN     205  Boston University   \n",
            "3    R.J. Hunter      28       SG   22     NaN     185      Georgia State   \n",
            "4  Jonas Jerebko       8       PF   29     NaN     231                NaN   \n",
            "\n",
            "      Salary  Team_Atlanta Hawks  Team_Boston Celtics  ...  \\\n",
            "0  7730337.0                 0.0                  1.0  ...   \n",
            "1  6796117.0                 0.0                  1.0  ...   \n",
            "2        NaN                 0.0                  1.0  ...   \n",
            "3  1148640.0                 0.0                  1.0  ...   \n",
            "4  5000000.0                 0.0                  1.0  ...   \n",
            "\n",
            "   Team_Oklahoma City Thunder  Team_Orlando Magic  Team_Philadelphia 76ers  \\\n",
            "0                         0.0                 0.0                      0.0   \n",
            "1                         0.0                 0.0                      0.0   \n",
            "2                         0.0                 0.0                      0.0   \n",
            "3                         0.0                 0.0                      0.0   \n",
            "4                         0.0                 0.0                      0.0   \n",
            "\n",
            "   Team_Phoenix Suns  Team_Portland Trail Blazers  Team_Sacramento Kings  \\\n",
            "0                0.0                          0.0                    0.0   \n",
            "1                0.0                          0.0                    0.0   \n",
            "2                0.0                          0.0                    0.0   \n",
            "3                0.0                          0.0                    0.0   \n",
            "4                0.0                          0.0                    0.0   \n",
            "\n",
            "   Team_San Antonio Spurs  Team_Toronto Raptors  Team_Utah Jazz  \\\n",
            "0                     0.0                   0.0             0.0   \n",
            "1                     0.0                   0.0             0.0   \n",
            "2                     0.0                   0.0             0.0   \n",
            "3                     0.0                   0.0             0.0   \n",
            "4                     0.0                   0.0             0.0   \n",
            "\n",
            "   Team_Washington Wizards  \n",
            "0                      0.0  \n",
            "1                      0.0  \n",
            "2                      0.0  \n",
            "3                      0.0  \n",
            "4                      0.0  \n",
            "\n",
            "[5 rows x 38 columns]\n"
          ]
        },
        {
          "output_type": "stream",
          "name": "stderr",
          "text": [
            "/usr/local/lib/python3.10/dist-packages/sklearn/preprocessing/_encoders.py:868: FutureWarning: `sparse` was renamed to `sparse_output` in version 1.2 and will be removed in 1.4. `sparse_output` is ignored unless you leave `sparse` to its default value.\n",
            "  warnings.warn(\n"
          ]
        }
      ]
    },
    {
      "cell_type": "code",
      "source": [
        "# Step 1: Importing Libraries\n",
        "from sklearn.preprocessing import OneHotEncoder\n",
        "\n",
        "# Step 4: One-Hot Encoding using Scikit-learn\n",
        "# Assuming 'Team' is a categorical variable\n",
        "# Creating an instance of OneHotEncoder\n",
        "encoder = OneHotEncoder(sparse_output=False)\n",
        "\n",
        "# Fit and transform the 'Team' column\n",
        "team_encoded = encoder.fit_transform(df[['Team']])\n",
        "\n",
        "# Create a DataFrame from the encoded array\n",
        "team_encoded_df = pd.DataFrame(team_encoded, columns=encoder.get_feature_names_out(['Team']))\n",
        "\n",
        "# Concatenate the encoded DataFrame with the original DataFrame\n",
        "df_encoded = pd.concat([df, team_encoded_df], axis=1)\n",
        "\n",
        "# Drop the original 'Team' column\n",
        "df_encoded.drop(columns=['Team'], inplace=True)\n",
        "\n",
        "# Displaying the transformed DataFrame\n",
        "print(df_encoded.head())"
      ],
      "metadata": {
        "colab": {
          "base_uri": "https://localhost:8080/"
        },
        "outputId": "8ac9716d-d429-40c2-b32c-58768e238846",
        "id": "LTD5gzezyZF0"
      },
      "execution_count": 26,
      "outputs": [
        {
          "output_type": "stream",
          "name": "stdout",
          "text": [
            "            Name  Number Position  Age  Height  Weight            College  \\\n",
            "0  Avery Bradley       0       PG   25     NaN     180              Texas   \n",
            "1    Jae Crowder      99       SF   25     NaN     235          Marquette   \n",
            "2   John Holland      30       SG   27     NaN     205  Boston University   \n",
            "3    R.J. Hunter      28       SG   22     NaN     185      Georgia State   \n",
            "4  Jonas Jerebko       8       PF   29     NaN     231                NaN   \n",
            "\n",
            "      Salary  Team_Atlanta Hawks  Team_Boston Celtics  ...  \\\n",
            "0  7730337.0                 0.0                  1.0  ...   \n",
            "1  6796117.0                 0.0                  1.0  ...   \n",
            "2        NaN                 0.0                  1.0  ...   \n",
            "3  1148640.0                 0.0                  1.0  ...   \n",
            "4  5000000.0                 0.0                  1.0  ...   \n",
            "\n",
            "   Team_Oklahoma City Thunder  Team_Orlando Magic  Team_Philadelphia 76ers  \\\n",
            "0                         0.0                 0.0                      0.0   \n",
            "1                         0.0                 0.0                      0.0   \n",
            "2                         0.0                 0.0                      0.0   \n",
            "3                         0.0                 0.0                      0.0   \n",
            "4                         0.0                 0.0                      0.0   \n",
            "\n",
            "   Team_Phoenix Suns  Team_Portland Trail Blazers  Team_Sacramento Kings  \\\n",
            "0                0.0                          0.0                    0.0   \n",
            "1                0.0                          0.0                    0.0   \n",
            "2                0.0                          0.0                    0.0   \n",
            "3                0.0                          0.0                    0.0   \n",
            "4                0.0                          0.0                    0.0   \n",
            "\n",
            "   Team_San Antonio Spurs  Team_Toronto Raptors  Team_Utah Jazz  \\\n",
            "0                     0.0                   0.0             0.0   \n",
            "1                     0.0                   0.0             0.0   \n",
            "2                     0.0                   0.0             0.0   \n",
            "3                     0.0                   0.0             0.0   \n",
            "4                     0.0                   0.0             0.0   \n",
            "\n",
            "   Team_Washington Wizards  \n",
            "0                      0.0  \n",
            "1                      0.0  \n",
            "2                      0.0  \n",
            "3                      0.0  \n",
            "4                      0.0  \n",
            "\n",
            "[5 rows x 38 columns]\n"
          ]
        }
      ]
    }
  ]
}